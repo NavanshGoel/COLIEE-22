{
 "cells": [
  {
   "cell_type": "code",
   "execution_count": null,
   "id": "02680df3",
   "metadata": {},
   "outputs": [],
   "source": [
    "import pandas as pd\n",
    "import numpy as np\n",
    "import sklearn\n",
    "from sklearn.model_selection import train_test_split\n",
    "import json\n",
    "import os\n",
    "import shutil\n",
    "import ast"
   ]
  },
  {
   "cell_type": "code",
   "execution_count": null,
   "id": "58f04606",
   "metadata": {},
   "outputs": [],
   "source": [
    "test_q = \"Path to Query DB\"\n",
    "test_c = \"Path to Citation DB\"\n",
    "\n",
    "json_test_label = \"path to given test unlabeled json file\""
   ]
  },
  {
   "cell_type": "code",
   "execution_count": null,
   "id": "a90930f5",
   "metadata": {},
   "outputs": [],
   "source": [
    "with open(json_test_label, 'r') as f:\n",
    "    test_label = json.load(f)"
   ]
  },
  {
   "cell_type": "code",
   "execution_count": null,
   "id": "39737582",
   "metadata": {},
   "outputs": [],
   "source": [
    "test_label"
   ]
  },
  {
   "cell_type": "code",
   "execution_count": null,
   "id": "243d25fd",
   "metadata": {},
   "outputs": [],
   "source": []
  },
  {
   "cell_type": "code",
   "execution_count": null,
   "id": "a4de11b6",
   "metadata": {},
   "outputs": [],
   "source": [
    "test_q_df = pd.DataFrame(columns=['Document ID','#FRAGMENT_SUPPRESSED','#REFERENCE_SUPPRESSED','#CITATION_SUPPRESSED'])\n",
    "    \n",
    "#iterate throught the query database list in sorted manner\n",
    "for r, d, f in os.walk(test_c):\n",
    "#     print(r, d, f)\n",
    "    for file in f:\n",
    "#         print(\"\\n\", file)\n",
    "        #open the file -> read the file -> split the lines\n",
    "        open_file = open(os.path.join(r, file), 'r', encoding=\"utf-8\")\n",
    "        f = open_file.read()\n",
    "        str_list = f.splitlines()\n",
    "#         print(str_list)\n",
    "        \n",
    "        count_FS = 0\n",
    "        count_RS = 0\n",
    "        count_CS = 0\n",
    "        citation_list = []\n",
    "        diff = 0\n",
    "        \n",
    "               \n",
    "        for i in range(len(str_list)):\n",
    "            if \"FRAGMENT_SUPPRESSED\" in str_list[i]:\n",
    "                count_FS += 1\n",
    "#                 print(i, \"==> \", len(str_list[i]), str_list[i], \"\\n\")\n",
    "                \n",
    "            if \"REFERENCE_SUPPRESSED\" in str_list[i]:\n",
    "                count_RS += 1\n",
    "#                 print(i, \"==> \", len(str_list[i]), str_list[i], \"\\n\")\n",
    "                \n",
    "            if \"CITATION_SUPPRESSED\" in str_list[i]:\n",
    "                count_CS += 1\n",
    "#                 print(i, \"==> \", len(str_list[i]), str_list[i], \"\\n\")\n",
    "    \n",
    "#         break\n",
    "        #add the document name and its vector into the dataframe\n",
    "        test_q_df = test_q_df.append({'Document ID':os.path.basename(file),'#FRAGMENT_SUPPRESSED':count_FS,'#REFERENCE_SUPPRESSED':count_RS,'#CITATION_SUPPRESSED':count_CS},ignore_index=True)\n",
    "        #close the query file\n",
    "        open_file.close()"
   ]
  },
  {
   "cell_type": "code",
   "execution_count": null,
   "id": "c6809077",
   "metadata": {},
   "outputs": [],
   "source": [
    "test_q_df"
   ]
  },
  {
   "cell_type": "code",
   "execution_count": null,
   "id": "628e71a7",
   "metadata": {},
   "outputs": [],
   "source": [
    "max(test_q_df[\"#FRAGMENT_SUPPRESSED\"]), max(test_q_df[\"#REFERENCE_SUPPRESSED\"]), max(test_q_df[\"#CITATION_SUPPRESSED\"])"
   ]
  },
  {
   "cell_type": "code",
   "execution_count": null,
   "id": "470d6b2b",
   "metadata": {},
   "outputs": [],
   "source": [
    "test_q_df[test_q_df[\"#REFERENCE_SUPPRESSED\"]!=0][\"Document ID\"]"
   ]
  },
  {
   "cell_type": "code",
   "execution_count": null,
   "id": "ed138460",
   "metadata": {},
   "outputs": [],
   "source": [
    "nf_FS = np.array(test_q_df[test_q_df[\"#FRAGMENT_SUPPRESSED\"]!=0][\"Document ID\"])\n",
    "nf_RS = np.array(test_q_df[test_q_df[\"#REFERENCE_SUPPRESSED\"]!=0][\"Document ID\"])\n",
    "nf_CS = np.array(test_q_df[test_q_df[\"#CITATION_SUPPRESSED\"]!=0][\"Document ID\"])"
   ]
  },
  {
   "cell_type": "code",
   "execution_count": null,
   "id": "d44c3d4f",
   "metadata": {},
   "outputs": [],
   "source": [
    "print(\"Total train query docs with FRAGMENT_SUPPRESSED\", len(nf_FS))\n",
    "print(\"Total train query docs with REFERENCE_SUPPRESSED\", len(nf_RS))\n",
    "print(\"Total train query docs with CITATION_SUPPRESSED\", len(nf_CS))\n",
    "\n",
    "print(\"Total query docs with all SUPPRESSED: \", len(nf_FS) + len(nf_RS) + len(nf_CS))\n",
    "\n"
   ]
  }
 ],
 "metadata": {
  "kernelspec": {
   "display_name": "Python 3",
   "language": "python",
   "name": "python3"
  },
  "language_info": {
   "codemirror_mode": {
    "name": "ipython",
    "version": 3
   },
   "file_extension": ".py",
   "mimetype": "text/x-python",
   "name": "python",
   "nbconvert_exporter": "python",
   "pygments_lexer": "ipython3",
   "version": "3.7.3"
  }
 },
 "nbformat": 4,
 "nbformat_minor": 5
}
