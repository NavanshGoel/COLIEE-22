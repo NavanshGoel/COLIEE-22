{
 "cells": [
  {
   "cell_type": "code",
   "execution_count": null,
   "id": "5ebdd257",
   "metadata": {},
   "outputs": [],
   "source": [
    "import os\n",
    "import progressbar\n",
    "import codecs\n",
    "import re\n",
    "import string\n",
    "import shutil\n",
    "import json\n",
    "\n"
   ]
  },
  {
   "cell_type": "code",
   "execution_count": null,
   "id": "6c07ce98",
   "metadata": {},
   "outputs": [],
   "source": [
    "path_prior_cases = \"path to prior cases directory\"\n",
    "\n",
    "path_test_unlabel = \"path to given test unlabeled json file\""
   ]
  },
  {
   "cell_type": "code",
   "execution_count": null,
   "id": "fd0e00e3",
   "metadata": {},
   "outputs": [],
   "source": [
    "with open(path_test_unlabel, 'r') as f:\n",
    "    test_unlabel = json.load(f)"
   ]
  },
  {
   "cell_type": "code",
   "execution_count": null,
   "id": "1af9b79e",
   "metadata": {},
   "outputs": [],
   "source": [
    "type(test_unlabel)"
   ]
  },
  {
   "cell_type": "markdown",
   "id": "9183fb5e",
   "metadata": {},
   "source": [
    "# Create Query DB "
   ]
  },
  {
   "cell_type": "code",
   "execution_count": null,
   "id": "7ba193bc",
   "metadata": {},
   "outputs": [],
   "source": [
    "my_suffixes = (\".txt\")\n",
    "query_files = []\n",
    "target = \"target directory\"\n",
    "# r=root, d=directories, f = files\n",
    "for r, d, f in os.walk(path_prior_cases):\n",
    "    for file in f:\n",
    "        if file.endswith(my_suffixes):\n",
    "            if file in test_unlabel:\n",
    "                query_files.append(file)\n"
   ]
  },
  {
   "cell_type": "markdown",
   "id": "14f84370",
   "metadata": {},
   "source": [
    "# Create Citation DB "
   ]
  },
  {
   "cell_type": "code",
   "execution_count": null,
   "id": "5a0e58bd",
   "metadata": {},
   "outputs": [],
   "source": [
    "my_suffixes = (\".txt\")\n",
    "citation_files = []\n",
    "target = \"target directory\"\n",
    "#r=root, d=directories, f = files\n",
    "for r, d, f in os.walk(path_prior_cases):\n",
    "    for file in f:\n",
    "        if file.endswith(my_suffixes):\n",
    "            if file not in test_unlabel:\n",
    "                citation_files.append(file)\n"
   ]
  },
  {
   "cell_type": "code",
   "execution_count": null,
   "id": "5c34754e",
   "metadata": {},
   "outputs": [],
   "source": [
    "total_files = len([name for name in os.listdir(path_prior_cases) if os.path.isfile(os.path.join(path_prior_cases, name))])"
   ]
  },
  {
   "cell_type": "code",
   "execution_count": null,
   "id": "6934b0be",
   "metadata": {},
   "outputs": [],
   "source": [
    "print(\"Total Files given: \", total_files)\n",
    "print(\"Citation Files: \", len(set(citation_files)))\n",
    "print(\"Query Files: \",len(set(query_files)))\n",
    "print(\"Total Files: \", len(set(query_files)) + len(set(citation_files)))\n"
   ]
  }
 ],
 "metadata": {
  "kernelspec": {
   "display_name": "Python 3",
   "language": "python",
   "name": "python3"
  },
  "language_info": {
   "codemirror_mode": {
    "name": "ipython",
    "version": 3
   },
   "file_extension": ".py",
   "mimetype": "text/x-python",
   "name": "python",
   "nbconvert_exporter": "python",
   "pygments_lexer": "ipython3",
   "version": "3.7.3"
  }
 },
 "nbformat": 4,
 "nbformat_minor": 5
}
